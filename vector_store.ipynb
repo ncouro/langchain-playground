{
 "cells": [
  {
   "cell_type": "code",
   "execution_count": null,
   "id": "b423e858",
   "metadata": {},
   "outputs": [],
   "source": [
    "!pip install sentence_transformers chromadb tiktoken\n",
    "!pip install aleph_alpha_client"
   ]
  },
  {
   "cell_type": "code",
   "execution_count": null,
   "id": "b25c747d",
   "metadata": {},
   "outputs": [],
   "source": [
    "import os\n",
    "os.environ['OPENAI_API_KEY'] = ''\n",
    "os.environ['ALEPH_ALPHA_API_KEY'] = ''"
   ]
  },
  {
   "cell_type": "code",
   "execution_count": null,
   "id": "cc8bfff5",
   "metadata": {},
   "outputs": [],
   "source": [
    "from langchain.embeddings import HuggingFaceEmbeddings, SentenceTransformerEmbeddings, OpenAIEmbeddings, AlephAlphaSymmetricSemanticEmbedding\n",
    "\n",
    "from langchain.indexes import VectorstoreIndexCreator\n",
    "from langchain.llms import HuggingFacePipeline\n",
    "from langchain.document_loaders import UnstructuredPDFLoader, OnlinePDFLoader\n",
    "\n",
    "# loader = UnstructuredPDFLoader(url=\"2203.15556.pdf\", mode='single')\n",
    "loader = OnlinePDFLoader('https://arxiv.org/pdf/2203.15556.pdf')\n",
    "docs = loader.load()\n",
    "\n",
    "# embeddings_model = HuggingFaceEmbeddings(model_name=\"all-MiniLM-L6-v2\")\n",
    "# embeddings_model = OpenAIEmbeddings()\n",
    "embeddings_model = AlephAlphaSymmetricSemanticEmbedding()\n",
    "\n",
    "index = VectorstoreIndexCreator(embedding=embeddings_model).from_loaders([loader])\n"
   ]
  },
  {
   "cell_type": "code",
   "execution_count": null,
   "id": "ce078261",
   "metadata": {},
   "outputs": [],
   "source": [
    "t5model = HuggingFacePipeline.from_model_id(\n",
    "    task=\"text2text-generation\", \n",
    "    model_id=\"google/flan-t5-xl\")\n",
    "\n",
    "index.query_with_sources(question='how many parameters does Chinchilla have', llm=t5model, verbose=True)"
   ]
  },
  {
   "cell_type": "code",
   "execution_count": null,
   "id": "d4e6485f",
   "metadata": {},
   "outputs": [],
   "source": [
    "index.query_with_sources?"
   ]
  },
  {
   "cell_type": "code",
   "execution_count": null,
   "id": "96a07211",
   "metadata": {},
   "outputs": [],
   "source": []
  }
 ],
 "metadata": {
  "kernelspec": {
   "display_name": "Python 3 (ipykernel)",
   "language": "python",
   "name": "python3"
  },
  "language_info": {
   "codemirror_mode": {
    "name": "ipython",
    "version": 3
   },
   "file_extension": ".py",
   "mimetype": "text/x-python",
   "name": "python",
   "nbconvert_exporter": "python",
   "pygments_lexer": "ipython3",
   "version": "3.10.8"
  }
 },
 "nbformat": 4,
 "nbformat_minor": 5
}
